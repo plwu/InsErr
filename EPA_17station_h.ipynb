{
 "cells": [
  {
   "cell_type": "code",
   "execution_count": 69,
   "metadata": {},
   "outputs": [],
   "source": [
    "import pandas as pd\n",
    "import numpy as np\n",
    "import datetime\n",
    "from sklearn.linear_model import LinearRegression\n",
    "import matplotlib.pyplot as plt\n",
    "from sklearn import datasets"
   ]
  },
  {
   "cell_type": "code",
   "execution_count": 70,
   "metadata": {},
   "outputs": [
    {
     "name": "stderr",
     "output_type": "stream",
     "text": [
      "C:\\ProgramData\\Anaconda3\\lib\\site-packages\\ipykernel_launcher.py:4: SettingWithCopyWarning: \n",
      "A value is trying to be set on a copy of a slice from a DataFrame\n",
      "\n",
      "See the caveats in the documentation: http://pandas.pydata.org/pandas-docs/stable/indexing.html#indexing-view-versus-copy\n",
      "  after removing the cwd from sys.path.\n",
      "C:\\ProgramData\\Anaconda3\\lib\\site-packages\\ipykernel_launcher.py:5: SettingWithCopyWarning: \n",
      "A value is trying to be set on a copy of a slice from a DataFrame\n",
      "\n",
      "See the caveats in the documentation: http://pandas.pydata.org/pandas-docs/stable/indexing.html#indexing-view-versus-copy\n",
      "  \"\"\"\n",
      "C:\\ProgramData\\Anaconda3\\lib\\site-packages\\ipykernel_launcher.py:6: SettingWithCopyWarning: \n",
      "A value is trying to be set on a copy of a slice from a DataFrame\n",
      "\n",
      "See the caveats in the documentation: http://pandas.pydata.org/pandas-docs/stable/indexing.html#indexing-view-versus-copy\n",
      "  \n",
      "C:\\ProgramData\\Anaconda3\\lib\\site-packages\\ipykernel_launcher.py:7: SettingWithCopyWarning: \n",
      "A value is trying to be set on a copy of a slice from a DataFrame\n",
      "\n",
      "See the caveats in the documentation: http://pandas.pydata.org/pandas-docs/stable/indexing.html#indexing-view-versus-copy\n",
      "  import sys\n"
     ]
    }
   ],
   "source": [
    "df_all = pd.read_csv(r'C:\\Users\\YC Yang\\Desktop\\InsErr\\check.csv')\n",
    "\n",
    "# 將df_all中數值為0的全改為nan\n",
    "df_all.EPA[df_all.EPA == 0] = np.nan\n",
    "df_all.GRIMM[df_all.GRIMM == 0] = np.nan\n",
    "df_all.Metone[df_all.Metone == 0] = np.nan\n",
    "df_all.TEOM[df_all.TEOM == 0] = np.nan"
   ]
  },
  {
   "cell_type": "code",
   "execution_count": 71,
   "metadata": {},
   "outputs": [],
   "source": [
    "# 創建斜率/截距/R^2的整理表格\n",
    "\n",
    "df = pd.DataFrame(columns=['slope','intercept','R^2'])"
   ]
  },
  {
   "cell_type": "code",
   "execution_count": 72,
   "metadata": {},
   "outputs": [],
   "source": [
    "def LR1(X,Y,days):\n",
    "    global r\n",
    "    global period\n",
    "    global df_column1\n",
    "    df.insert(0,'time',np.nan)\n",
    "    for r in range (((df_column1.tail(1).index.tolist()[0]+1)//period)+1):\n",
    "        df_split = df_column1.loc[0 + r*period : (period-1) + r*period] \n",
    "\n",
    "        # 將row中有nan的丟掉\n",
    "        df_dnan = df_split.dropna(axis=0, how='any')\n",
    "\n",
    "        if df_dnan.empty:\n",
    "            continue\n",
    "\n",
    "        x = df_dnan[X] # 選擇 x data\n",
    "        y = df_dnan[Y] # 選擇 y data\n",
    "\n",
    "        model = LinearRegression()\n",
    "        model.fit(x.reshape(-1,1),y.reshape(-1,1))\n",
    "\n",
    "        df.loc[r,'slope'] = '%.2f'%model.coef_\n",
    "        df.loc[r,'intercept'] = '%.2f'%model.intercept_\n",
    "        df.loc[r,'R^2'] = '%.2f'%model.score(x.reshape(-1,1),y.reshape(-1,1))\n",
    "        \n",
    "        if (period-1) + r*period <= df_split.tail(1).index.tolist()[0]:\n",
    "            time_list = df_split.loc[0 + r*period,'time'][0:10] + ' to ' + df_split.loc[r*period + (period-1),'time'][0:10]\n",
    "            #time_list = datetime.datetime.strptime(df_split.loc[0 + r*period,'time'], '%Y-%m-%d %H:%M:%S').strftime('%Y-%m-%d') + ' to ' + datetime.datetime.strptime(df_split.loc[r*period + (period-1),'time'], '%Y-%m-%d %H:%M:%S').strftime('%Y-%m-%d')\n",
    "        elif (period-1) + r*period > df_split.tail(1).index.tolist()[0]:\n",
    "            time_list = df_split.loc[r*period,'time'][0:10] + ' to ' + df_split.loc[df_split.tail(1).index.tolist()[0],'time'][0:10]\n",
    "            #time_list = datetime.datetime.strptime(df_split.loc[r*period,'time'], '%Y-%m-%d %H:%M:%S').strftime('%Y-%m-%d') + ' to ' + datetime.datetime.strptime(df_split.loc[df_split.tail(1).index.tolist()[0],'time'], '%Y-%m-%d %H:%M:%S').strftime('%Y-%m-%d')\n",
    "        df.loc[r,'time'] = time_list\n",
    "    \n",
    "    return df"
   ]
  },
  {
   "cell_type": "code",
   "execution_count": 73,
   "metadata": {},
   "outputs": [],
   "source": [
    "def LR2(X,Y,days):\n",
    "    global r\n",
    "    global period\n",
    "    global df_column1\n",
    "    df.insert(0,'time',np.nan)\n",
    "    for r in range (((df_column1.tail(1).index.tolist()[0]+1)//period)):\n",
    "        df_split = df_column1.loc[0 + r*period : (period-1) + r*period] \n",
    "\n",
    "        # 將row中有nan的丟掉\n",
    "        df_dnan = df_split.dropna(axis=0, how='any')\n",
    "\n",
    "        if df_dnan.empty:\n",
    "            continue\n",
    "\n",
    "        x = df_dnan[X] # 選擇 x data\n",
    "        y = df_dnan[Y] # 選擇 y data\n",
    "\n",
    "        model = LinearRegression()\n",
    "        model.fit(x.reshape(-1,1),y.reshape(-1,1))\n",
    "\n",
    "        df.loc[r,'slope'] = '%.2f'%model.coef_\n",
    "        df.loc[r,'intercept'] = '%.2f'%model.intercept_\n",
    "        df.loc[r,'R^2'] = '%.2f'%model.score(x.reshape(-1,1),y.reshape(-1,1))\n",
    "        \n",
    "        if (period-1) + r*period <= df_split.tail(1).index.tolist()[0]:\n",
    "            time_list = df_split.loc[0 + r*period,'time'][0:10] + ' to ' + df_split.loc[r*period + (period-1),'time'][0:10]\n",
    "            #time_list = datetime.datetime.strptime(df_split.loc[0 + r*period,'time'], '%Y-%m-%d %H:%M:%S').strftime('%Y-%m-%d') + ' to ' + datetime.datetime.strptime(df_split.loc[r*period + (period-1),'time'], '%Y-%m-%d %H:%M:%S').strftime('%Y-%m-%d')\n",
    "        elif (period-1) + r*period > df_split.tail(1).index.tolist()[0]:\n",
    "            time_list = df_split.loc[r*period,'time'][0:10] + ' to ' + df_split.loc[df_split.tail(1).index.tolist()[0],'time'][0:10]\n",
    "            #time_list = datetime.datetime.strptime(df_split.loc[r*period,'time'], '%Y-%m-%d %H:%M:%S').strftime('%Y-%m-%d') + ' to ' + datetime.datetime.strptime(df_split.loc[df_split.tail(1).index.tolist()[0],'time'], '%Y-%m-%d %H:%M:%S').strftime('%Y-%m-%d')\n",
    "        df.loc[r,'time'] = time_list\n",
    "    \n",
    "    return df"
   ]
  },
  {
   "cell_type": "code",
   "execution_count": 74,
   "metadata": {},
   "outputs": [],
   "source": [
    "# 設定作圖的天數區間\n",
    "days = 21\n",
    "\n",
    "X = 'EPA'\n",
    "Y = 'GRIMM'"
   ]
  },
  {
   "cell_type": "code",
   "execution_count": 75,
   "metadata": {},
   "outputs": [
    {
     "name": "stdout",
     "output_type": "stream",
     "text": [
      "EPA to GRIMM    21days\n",
      "                       time slope intercept   R^2\n",
      "0  2018-03-25 to 2018-04-14  0.59      5.14  0.36\n",
      "1  2018-04-15 to 2018-05-05  0.72      4.45  0.65\n",
      "2  2018-05-06 to 2018-05-26  0.76      3.09  0.72\n",
      "3  2018-05-27 to 2018-06-01  0.39      6.89  0.32\n"
     ]
    },
    {
     "name": "stderr",
     "output_type": "stream",
     "text": [
      "C:\\ProgramData\\Anaconda3\\lib\\site-packages\\ipykernel_launcher.py:19: FutureWarning: reshape is deprecated and will raise in a subsequent release. Please use .values.reshape(...) instead\n",
      "C:\\ProgramData\\Anaconda3\\lib\\site-packages\\ipykernel_launcher.py:23: FutureWarning: reshape is deprecated and will raise in a subsequent release. Please use .values.reshape(...) instead\n"
     ]
    }
   ],
   "source": [
    "period = days*24\n",
    "\n",
    "#df_column1 = df_all[['time', X , Y]]\n",
    "\n",
    "if (df_column1.tail(1).index.tolist()[0]+1)%period != 0:\n",
    "    LR1(X,Y,days)\n",
    "if (df_column1.tail(1).index.tolist()[0]+1)%period == 0:\n",
    "    LR2(X,Y,days)\n",
    "    \n",
    "print(X + ' to ' + Y +'    ' + str(days) + 'days')\n",
    "print(df)"
   ]
  }
 ],
 "metadata": {
  "kernelspec": {
   "display_name": "Python 3",
   "language": "python",
   "name": "python3"
  },
  "language_info": {
   "codemirror_mode": {
    "name": "ipython",
    "version": 3
   },
   "file_extension": ".py",
   "mimetype": "text/x-python",
   "name": "python",
   "nbconvert_exporter": "python",
   "pygments_lexer": "ipython3",
   "version": "3.6.4"
  }
 },
 "nbformat": 4,
 "nbformat_minor": 2
}
